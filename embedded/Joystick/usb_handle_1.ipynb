{
 "cells": [
  {
   "cell_type": "markdown",
   "metadata": {},
   "source": [
    "# 手柄遥控\n",
    "在本例中，我们将使用连接到web浏览器机器的gamepad控制器来打印手柄的遥控数据。"
   ]
  },
  {
   "cell_type": "markdown",
   "metadata": {},
   "source": [
    "### 创建手柄控制器\n",
    "我们要做的第一件事是创建一个' Controller'widget的实例，我们将使用它来驱动我们的USB手柄。\n",
    "“Controller”小部件接受一个“index”参数，该参数指定控制器的数量。如果你有多个控制器，或者一些游戏手柄以多个控制器的形式出现，这是非常有用的。如果只接入一个手柄，默认index=0，如果有多个则需要根据实际输入对应手柄的编号:\n",
    "1. 打开[http://html5gamepad.com](http://html5gamepad.com)此网页.  \n",
    "2. 按下你正在使用的手柄的按键\n",
    "3. 记住当你按下按键后弹出的相应的索引号\n",
    "\n",
    "接下来，我们将使用该索引创建并显示控制器。"
   ]
  },
  {
   "cell_type": "code",
   "metadata": {
    "ExecuteTime": {
     "end_time": "2025-06-22T07:07:16.826768Z",
     "start_time": "2025-06-22T07:07:16.822358Z"
    }
   },
   "source": [
    "import ipywidgets.widgets as widgets\n",
    "\n",
    "controller = widgets.Controller(index=0)  #用你刚测试过正在使用的控制器的索引号替代\n",
    "display(controller)\n",
    "# 如果手柄在休眠状态，请按START键激活连接。\n",
    "\n",
    "sz_axes = len(controller.axes)\n",
    "print(f\"sz_axes: {sz_axes}\")"
   ],
   "outputs": [
    {
     "data": {
      "text/plain": [
       "Controller()"
      ],
      "application/vnd.jupyter.widget-view+json": {
       "version_major": 2,
       "version_minor": 0,
       "model_id": "32d68a96e51c46caa316c9e09e638420"
      }
     },
     "metadata": {},
     "output_type": "display_data"
    },
    {
     "name": "stdout",
     "output_type": "stream",
     "text": [
      "sz_axes: 0\n"
     ]
    }
   ],
   "execution_count": 12
  },
  {
   "cell_type": "code",
   "metadata": {
    "ExecuteTime": {
     "end_time": "2025-06-22T07:02:36.262204Z",
     "start_time": "2025-06-22T07:02:36.259927Z"
    }
   },
   "source": [
    "import threading\n",
    "import time\n",
    "\n",
    "import inspect\n",
    "import ctypes"
   ],
   "outputs": [],
   "execution_count": 3
  },
  {
   "cell_type": "code",
   "metadata": {
    "ExecuteTime": {
     "end_time": "2025-06-22T07:02:54.945960Z",
     "start_time": "2025-06-22T07:02:54.941386Z"
    }
   },
   "source": [
    "#创建主动停止进程的方法\n",
    "def _async_raise(tid, exctype):\n",
    "    \"\"\"raises the exception, performs cleanup if needed\"\"\"\n",
    "    tid = ctypes.c_long(tid)\n",
    "    if not inspect.isclass(exctype):\n",
    "        exctype = type(exctype)\n",
    "    res = ctypes.pythonapi.PyThreadState_SetAsyncExc(tid, ctypes.py_object(exctype))\n",
    "    if res == 0:\n",
    "        raise ValueError(\"invalid thread id\")\n",
    "    elif res != 1:\n",
    "        # \"\"\"if it returns a number greater than one, you're in trouble,\n",
    "        # and you should call it again with exc=NULL to revert the effect\"\"\"\n",
    "        ctypes.pythonapi.PyThreadState_SetAsyncExc(tid, None)\n",
    "\n",
    "\n",
    "def stop_thread(thread):\n",
    "    _async_raise(thread.ident, SystemExit)"
   ],
   "outputs": [],
   "execution_count": 4
  },
  {
   "cell_type": "markdown",
   "metadata": {},
   "source": [
    "# 创建手柄遥杆接收和打印数据的方法  \n",
    "## 程序功能: \n",
    "1. 打印每一次按下的是哪个键。 \n"
   ]
  },
  {
   "cell_type": "code",
   "metadata": {
    "ExecuteTime": {
     "end_time": "2025-06-22T07:03:22.870650Z",
     "start_time": "2025-06-22T07:03:22.862730Z"
    }
   },
   "source": [
    "def USB_Handle():\n",
    "    delay_time = 0.01\n",
    "    while True:\n",
    "        #因为摇杆手柄个别差异,所有在遥杆复位值不一定是零，所以需要以0.1作为过滤，避免误操作。\n",
    "        # 打印左边摇杆的数据\n",
    "        # A1上负下正\n",
    "        if controller.axes[1].value > 0.1:  # 左边摇杆 向下\n",
    "            print('L_DOWN=%.2f' % (controller.axes[1].value))\n",
    "        elif controller.axes[1].value < -0.1:  # 左边摇杆 向上\n",
    "            print('L_UP=%.2f' % (controller.axes[1].value))\n",
    "        time.sleep(delay_time)\n",
    "\n",
    "        # A0左负右正\n",
    "        if controller.axes[0].value > 0.1:  # 左边摇杆 向右\n",
    "            print('L_RIGHT=%.2f' % (controller.axes[0].value))\n",
    "            time.sleep(delay_time)\n",
    "        elif controller.axes[0].value < -0.1:  # 左边摇杆 向左\n",
    "            print('L_LEFT=%.2f' % (controller.axes[0].value))\n",
    "            time.sleep(delay_time)\n",
    "\n",
    "        # 左边摇杆按下=B10\n",
    "        if controller.buttons[10].value == True:\n",
    "            print('L_PRESS')\n",
    "            time.sleep(delay_time)\n",
    "\n",
    "        # 打印右边摇杆的模拟值\n",
    "        # A3上负下正, A2左负右正 \n",
    "        if controller.axes[3].value < -0.1:\n",
    "            print('R_UP=%.2f' % (controller.axes[3].value))\n",
    "            time.sleep(delay_time)\n",
    "        elif controller.axes[3].value > 0.1:\n",
    "            print('R_DOWN=%.2f' % (controller.axes[3].value))\n",
    "            time.sleep(delay_time)\n",
    "\n",
    "        if controller.axes[2].value > 0.1:\n",
    "            print('R_RIGHT=%.2f' % (controller.axes[2].value))\n",
    "            time.sleep(delay_time)\n",
    "        elif controller.axes[2].value < -0.1:\n",
    "            print('R_LEFT=%.2f' % (controller.axes[2].value))\n",
    "            time.sleep(delay_time)\n",
    "\n",
    "        # 右边摇杆按下=B11\n",
    "        if controller.buttons[11].value == True:\n",
    "            print('R_PRESS')\n",
    "            time.sleep(delay_time)\n",
    "\n",
    "        # A=B0,B=B1,X=B2,Y=B3\n",
    "        if controller.buttons[0].value == True:\n",
    "            print('BTN_A')\n",
    "            time.sleep(delay_time)\n",
    "        if controller.buttons[1].value == True:\n",
    "            print('BTN_B')\n",
    "            time.sleep(delay_time)\n",
    "        if controller.buttons[2].value == True:\n",
    "            print('BTN_X')\n",
    "            time.sleep(delay_time)\n",
    "        if controller.buttons[3].value == True:\n",
    "            print('BTN_Y')\n",
    "            time.sleep(delay_time)\n",
    "\n",
    "        # R1=B5,R2=B7\n",
    "        if controller.buttons[5].value == True:\n",
    "            print('R1')\n",
    "            time.sleep(delay_time)\n",
    "        if controller.buttons[7].value == True:\n",
    "            print('R2')\n",
    "            time.sleep(delay_time)\n",
    "\n",
    "        # L1=B4,L2=B6\n",
    "        if controller.buttons[4].value == True:\n",
    "            print('L1')\n",
    "            time.sleep(delay_time)\n",
    "        elif controller.buttons[6].value == True:\n",
    "            print('L2')\n",
    "            time.sleep(delay_time)\n",
    "\n",
    "        # SELECT=B8\n",
    "        if controller.buttons[8].value == True:\n",
    "            print('SELECT')\n",
    "            time.sleep(delay_time)\n",
    "        # START=B9\n",
    "        if controller.buttons[9].value == True:\n",
    "            print('START')\n",
    "            time.sleep(delay_time)"
   ],
   "outputs": [],
   "execution_count": 5
  },
  {
   "cell_type": "code",
   "metadata": {
    "ExecuteTime": {
     "end_time": "2025-06-22T07:04:32.877018Z",
     "start_time": "2025-06-22T07:04:32.874003Z"
    }
   },
   "source": [
    "#通过运行下面单元格代码开启手柄的线程\n",
    "#等待手柄控制线程启动后就可以操作手柄。\n",
    "thread = threading.Thread(target=USB_Handle, daemon=True)\n",
    "thread.start()"
   ],
   "outputs": [
    {
     "name": "stderr",
     "output_type": "stream",
     "text": [
      "Exception in thread Thread-6 (USB_Handle):\n",
      "Traceback (most recent call last):\n",
      "  File \"/opt/user_data/apps/DevOps/anaconda3/envs/robot/lib/python3.10/threading.py\", line 1016, in _bootstrap_inner\n",
      "    self.run()\n",
      "  File \"/opt/user_data/apps/DevOps/anaconda3/envs/robot/lib/python3.10/site-packages/ipykernel/ipkernel.py\", line 766, in run_closure\n",
      "    _threading_Thread_run(self)\n",
      "  File \"/opt/user_data/apps/DevOps/anaconda3/envs/robot/lib/python3.10/threading.py\", line 953, in run\n",
      "    self._target(*self._args, **self._kwargs)\n",
      "  File \"/tmp/ipykernel_1839735/473257138.py\", line 7, in USB_Handle\n",
      "IndexError: tuple index out of range\n"
     ]
    }
   ],
   "execution_count": 7
  },
  {
   "cell_type": "code",
   "execution_count": 15,
   "metadata": {},
   "outputs": [],
   "source": [
    "#结束手柄线程。\n",
    "#如果出现线程启动或者结束失败的情况，\n",
    "#请重新start一下kernel，再重头一步步运行。\n",
    "stop_thread(thread)"
   ]
  },
  {
   "cell_type": "code",
   "execution_count": null,
   "metadata": {},
   "outputs": [],
   "source": [
    "USB_Handle()"
   ]
  },
  {
   "cell_type": "code",
   "execution_count": null,
   "metadata": {},
   "outputs": [],
   "source": []
  }
 ],
 "metadata": {
  "kernelspec": {
   "display_name": "Python 3",
   "language": "python",
   "name": "python3"
  },
  "language_info": {
   "codemirror_mode": {
    "name": "ipython",
    "version": 3
   },
   "file_extension": ".py",
   "mimetype": "text/x-python",
   "name": "python",
   "nbconvert_exporter": "python",
   "pygments_lexer": "ipython3",
   "version": "3.6.9"
  }
 },
 "nbformat": 4,
 "nbformat_minor": 4
}
